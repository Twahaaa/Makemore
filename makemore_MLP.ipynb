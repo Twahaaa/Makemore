{
  "nbformat": 4,
  "nbformat_minor": 0,
  "metadata": {
    "colab": {
      "provenance": [],
      "authorship_tag": "ABX9TyNmq7y/F60Ewf1k+pTbO2UY",
      "include_colab_link": true
    },
    "kernelspec": {
      "name": "python3",
      "display_name": "Python 3"
    },
    "language_info": {
      "name": "python"
    }
  },
  "cells": [
    {
      "cell_type": "markdown",
      "metadata": {
        "id": "view-in-github",
        "colab_type": "text"
      },
      "source": [
        "<a href=\"https://colab.research.google.com/github/Twahaaa/Makemore/blob/main/makemore_MLP.ipynb\" target=\"_parent\"><img src=\"https://colab.research.google.com/assets/colab-badge.svg\" alt=\"Open In Colab\"/></a>"
      ]
    },
    {
      "cell_type": "code",
      "execution_count": null,
      "metadata": {
        "id": "J3FMTC10CA7c"
      },
      "outputs": [],
      "source": [
        "import torch\n",
        "import torch.nn.functional as F\n",
        "import matplotlib.pyplot as plt\n",
        "%matplotlib inline"
      ]
    },
    {
      "cell_type": "code",
      "source": [
        "#read all the words\n",
        "words = open('names.txt','r').read().splitlines()\n",
        "words[:8]"
      ],
      "metadata": {
        "colab": {
          "base_uri": "https://localhost:8080/"
        },
        "id": "ZJLeyi8lERvU",
        "outputId": "385cbaed-dd12-45a9-89cd-f73fa439a3d4"
      },
      "execution_count": null,
      "outputs": [
        {
          "output_type": "execute_result",
          "data": {
            "text/plain": [
              "['emma', 'olivia', 'ava', 'isabella', 'sophia', 'charlotte', 'mia', 'amelia']"
            ]
          },
          "metadata": {},
          "execution_count": 2
        }
      ]
    },
    {
      "cell_type": "code",
      "source": [
        "chars=sorted(list(set(''.join(words))))\n",
        "stoi={s:i+1 for i,s in enumerate(chars)}\n",
        "stoi['.']=0\n",
        "itos={i:s for s,i in stoi.items()}\n",
        "print(itos)"
      ],
      "metadata": {
        "colab": {
          "base_uri": "https://localhost:8080/"
        },
        "id": "qcSy-RXbGKbn",
        "outputId": "bd8dbc86-48b3-48f9-eb98-e7ef5fc05e8f"
      },
      "execution_count": null,
      "outputs": [
        {
          "output_type": "stream",
          "name": "stdout",
          "text": [
            "{1: 'a', 2: 'b', 3: 'c', 4: 'd', 5: 'e', 6: 'f', 7: 'g', 8: 'h', 9: 'i', 10: 'j', 11: 'k', 12: 'l', 13: 'm', 14: 'n', 15: 'o', 16: 'p', 17: 'q', 18: 'r', 19: 's', 20: 't', 21: 'u', 22: 'v', 23: 'w', 24: 'x', 25: 'y', 26: 'z', 0: '.'}\n"
          ]
        }
      ]
    },
    {
      "cell_type": "code",
      "source": [
        "block_size=3\n",
        "X,Y=[],[]\n",
        "\n",
        "for w in words:\n",
        "  #print(w)\n",
        "  context = [0] * block_size # context = [0,0,0]\n",
        "\n",
        "  for ch in w + '.':\n",
        "    ix=stoi[ch]\n",
        "    X.append(context) # store current context as an input sample\n",
        "    Y.append(ix) # Store the index of the next character as the target output\n",
        "    context = context[1:] + [ix] # Shift the context window and add the new character index\n",
        "\n",
        "X=torch.tensor(X)\n",
        "Y=torch.tensor(Y)"
      ],
      "metadata": {
        "id": "8KkqADgtGgM6"
      },
      "execution_count": null,
      "outputs": []
    },
    {
      "cell_type": "code",
      "source": [
        "X"
      ],
      "metadata": {
        "colab": {
          "base_uri": "https://localhost:8080/"
        },
        "id": "pRYf6Vp7LVw3",
        "outputId": "c53ae8fa-cb83-4e95-b57a-b53d6c6efa33"
      },
      "execution_count": null,
      "outputs": [
        {
          "output_type": "execute_result",
          "data": {
            "text/plain": [
              "tensor([[ 0,  0,  0],\n",
              "        [ 0,  0,  5],\n",
              "        [ 0,  5, 13],\n",
              "        ...,\n",
              "        [26, 26, 25],\n",
              "        [26, 25, 26],\n",
              "        [25, 26, 24]])"
            ]
          },
          "metadata": {},
          "execution_count": 5
        }
      ]
    },
    {
      "cell_type": "code",
      "source": [
        "context"
      ],
      "metadata": {
        "colab": {
          "base_uri": "https://localhost:8080/"
        },
        "id": "u8ytSIA-H0Ed",
        "outputId": "d01978f4-4e5e-4bee-b6d5-232342f64366"
      },
      "execution_count": null,
      "outputs": [
        {
          "output_type": "execute_result",
          "data": {
            "text/plain": [
              "[26, 24, 0]"
            ]
          },
          "metadata": {},
          "execution_count": 6
        }
      ]
    },
    {
      "cell_type": "code",
      "source": [
        "C = torch.randn([27,2])"
      ],
      "metadata": {
        "id": "dnwrsf4lKXOd"
      },
      "execution_count": null,
      "outputs": []
    },
    {
      "cell_type": "code",
      "source": [
        "C"
      ],
      "metadata": {
        "colab": {
          "base_uri": "https://localhost:8080/"
        },
        "id": "ljcZLOvoJlW1",
        "outputId": "ed378502-aca2-43b1-ce73-f1c18cc0b722"
      },
      "execution_count": null,
      "outputs": [
        {
          "output_type": "execute_result",
          "data": {
            "text/plain": [
              "tensor([[ 2.0443,  0.7277],\n",
              "        [-1.0658,  0.8662],\n",
              "        [ 1.3288, -0.4771],\n",
              "        [-1.1050,  1.7457],\n",
              "        [-1.0283, -0.1391],\n",
              "        [-0.2770, -0.9657],\n",
              "        [-0.9476, -1.2448],\n",
              "        [ 1.5825, -0.1401],\n",
              "        [-0.2871, -0.4373],\n",
              "        [-0.2636,  0.1165],\n",
              "        [ 1.4591,  0.2443],\n",
              "        [ 0.6271, -0.4879],\n",
              "        [ 0.0137,  0.8662],\n",
              "        [ 0.9180,  0.2779],\n",
              "        [-1.7112,  0.3300],\n",
              "        [ 3.6360, -0.3944],\n",
              "        [ 0.0306,  1.6947],\n",
              "        [-0.2566,  0.8236],\n",
              "        [ 1.1253, -0.0753],\n",
              "        [-0.4724,  0.1528],\n",
              "        [-0.2564, -1.4246],\n",
              "        [-0.4654,  1.1321],\n",
              "        [-0.6441,  0.2164],\n",
              "        [-0.2653,  0.7366],\n",
              "        [-1.8147, -0.8538],\n",
              "        [-0.1908, -1.5093],\n",
              "        [ 2.1885,  0.3960]])"
            ]
          },
          "metadata": {},
          "execution_count": 8
        }
      ]
    },
    {
      "cell_type": "code",
      "source": [
        "C[X].shape #embedding for each layer of X"
      ],
      "metadata": {
        "colab": {
          "base_uri": "https://localhost:8080/"
        },
        "id": "eW4z-JYCJl60",
        "outputId": "f696690a-f95f-4d69-d841-84f63913df1a"
      },
      "execution_count": null,
      "outputs": [
        {
          "output_type": "execute_result",
          "data": {
            "text/plain": [
              "torch.Size([228146, 3, 2])"
            ]
          },
          "metadata": {},
          "execution_count": 9
        }
      ]
    },
    {
      "cell_type": "markdown",
      "source": [
        "![Screenshot from 2025-02-08 21-01-06.png](data:image/png;base64,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)"
      ],
      "metadata": {
        "id": "wsrcyRiWL7or"
      }
    },
    {
      "cell_type": "markdown",
      "source": [
        "So the Emebedding is for 3 C's with 2 dimentional embeddings, Hence the shape (/32/,3,2)"
      ],
      "metadata": {
        "id": "8T4_6A-aMCvY"
      }
    },
    {
      "cell_type": "code",
      "source": [
        "emb=C[X]"
      ],
      "metadata": {
        "id": "d1F1fRuYLZP_"
      },
      "execution_count": null,
      "outputs": []
    },
    {
      "cell_type": "code",
      "source": [
        "emb"
      ],
      "metadata": {
        "colab": {
          "base_uri": "https://localhost:8080/"
        },
        "id": "FxoBSA7EPC8z",
        "outputId": "33afeac9-58ab-4ff7-f547-02c2cc8c1eae"
      },
      "execution_count": null,
      "outputs": [
        {
          "output_type": "execute_result",
          "data": {
            "text/plain": [
              "tensor([[[ 2.0443,  0.7277],\n",
              "         [ 2.0443,  0.7277],\n",
              "         [ 2.0443,  0.7277]],\n",
              "\n",
              "        [[ 2.0443,  0.7277],\n",
              "         [ 2.0443,  0.7277],\n",
              "         [-0.2770, -0.9657]],\n",
              "\n",
              "        [[ 2.0443,  0.7277],\n",
              "         [-0.2770, -0.9657],\n",
              "         [ 0.9180,  0.2779]],\n",
              "\n",
              "        ...,\n",
              "\n",
              "        [[ 2.1885,  0.3960],\n",
              "         [ 2.1885,  0.3960],\n",
              "         [-0.1908, -1.5093]],\n",
              "\n",
              "        [[ 2.1885,  0.3960],\n",
              "         [-0.1908, -1.5093],\n",
              "         [ 2.1885,  0.3960]],\n",
              "\n",
              "        [[-0.1908, -1.5093],\n",
              "         [ 2.1885,  0.3960],\n",
              "         [-1.8147, -0.8538]]])"
            ]
          },
          "metadata": {},
          "execution_count": 11
        }
      ]
    },
    {
      "cell_type": "code",
      "source": [
        "w1=torch.randn([6,100]) # 6->no of inputs and 100->no of nuerons(upto us)\n",
        "b1=torch.randn(100)"
      ],
      "metadata": {
        "id": "q-X7obutLte0"
      },
      "execution_count": null,
      "outputs": []
    },
    {
      "cell_type": "code",
      "source": [
        "h=torch.tanh(emb.view(-1,6) @ w1 + b1) #the hidden activation layer (-1,6) -1->torch automatically infers the dimention and 6->2*3"
      ],
      "metadata": {
        "id": "iK3b-O-MOdEo"
      },
      "execution_count": null,
      "outputs": []
    },
    {
      "cell_type": "code",
      "source": [
        "(emb.view(-1,6) @ w1).shape"
      ],
      "metadata": {
        "colab": {
          "base_uri": "https://localhost:8080/"
        },
        "id": "PcbsmELBR6-v",
        "outputId": "9e316842-0929-4d5f-f88b-403b37c9094a"
      },
      "execution_count": null,
      "outputs": [
        {
          "output_type": "execute_result",
          "data": {
            "text/plain": [
              "torch.Size([228146, 100])"
            ]
          },
          "metadata": {},
          "execution_count": 14
        }
      ]
    },
    {
      "cell_type": "code",
      "source": [
        "b1.shape"
      ],
      "metadata": {
        "colab": {
          "base_uri": "https://localhost:8080/"
        },
        "id": "-8xt_OwtSEHV",
        "outputId": "0b3628d0-f725-4a89-c067-51863a92683d"
      },
      "execution_count": null,
      "outputs": [
        {
          "output_type": "execute_result",
          "data": {
            "text/plain": [
              "torch.Size([100])"
            ]
          },
          "metadata": {},
          "execution_count": 15
        }
      ]
    },
    {
      "cell_type": "code",
      "source": [
        "#so the addition will be\n",
        "#32,100\n",
        "#1,100, the brodcasting is done to the right so a new '1' dimention is added to the left so that addition is possible\n",
        "#so this does row wise elemental addition"
      ],
      "metadata": {
        "id": "2GILLEEwSHLu"
      },
      "execution_count": null,
      "outputs": []
    },
    {
      "cell_type": "code",
      "source": [
        "h"
      ],
      "metadata": {
        "colab": {
          "base_uri": "https://localhost:8080/"
        },
        "id": "eXDiN256RWTj",
        "outputId": "cf410f1c-934f-4d51-93e1-b463f08098aa"
      },
      "execution_count": null,
      "outputs": [
        {
          "output_type": "execute_result",
          "data": {
            "text/plain": [
              "tensor([[ 0.9709,  0.9999, -0.9877,  ..., -1.0000, -0.1650, -0.9999],\n",
              "        [-0.9451,  1.0000, -1.0000,  ..., -0.9998,  0.9673, -1.0000],\n",
              "        [ 0.9998,  0.9073,  0.3758,  ..., -0.9926, -0.8990, -0.4831],\n",
              "        ...,\n",
              "        [-0.8897,  1.0000, -1.0000,  ..., -1.0000,  0.9115, -1.0000],\n",
              "        [ 1.0000,  0.6704,  0.9021,  ..., -0.9996, -0.9981, -0.8675],\n",
              "        [-0.9999,  0.9653, -1.0000,  ..., -0.9999,  1.0000, -0.9892]])"
            ]
          },
          "metadata": {},
          "execution_count": 17
        }
      ]
    },
    {
      "cell_type": "code",
      "source": [
        " #numbers to pass to the ouput layer (aka logits)\n",
        " w2=torch.randn([100,27]) # 100-> input from the previous layer and 27 is to pass to the output layer in this case (27, no of alphabets)\n",
        " b2=torch.randn(27)"
      ],
      "metadata": {
        "id": "mqW5algNRWjZ"
      },
      "execution_count": null,
      "outputs": []
    },
    {
      "cell_type": "code",
      "source": [
        "logits = h @ w2 + b2"
      ],
      "metadata": {
        "id": "CLiOCRkPTBiy"
      },
      "execution_count": null,
      "outputs": []
    },
    {
      "cell_type": "code",
      "source": [
        "logits.shape"
      ],
      "metadata": {
        "colab": {
          "base_uri": "https://localhost:8080/"
        },
        "id": "Cjbdl7YwTJVN",
        "outputId": "943bef1a-d6fb-49da-c6c9-90e9090840bc"
      },
      "execution_count": null,
      "outputs": [
        {
          "output_type": "execute_result",
          "data": {
            "text/plain": [
              "torch.Size([228146, 27])"
            ]
          },
          "metadata": {},
          "execution_count": 20
        }
      ]
    },
    {
      "cell_type": "code",
      "source": [
        " counts = logits.exp()\n"
      ],
      "metadata": {
        "id": "NH6XpfulTN5t"
      },
      "execution_count": null,
      "outputs": []
    },
    {
      "cell_type": "code",
      "source": [
        "probs = counts / counts.sum(1, keepdims=True)"
      ],
      "metadata": {
        "id": "adFkJpCATYkA"
      },
      "execution_count": null,
      "outputs": []
    },
    {
      "cell_type": "code",
      "source": [
        "probs.shape"
      ],
      "metadata": {
        "colab": {
          "base_uri": "https://localhost:8080/"
        },
        "id": "mEjPRiDEVhur",
        "outputId": "5fabce90-60d8-4b4c-d879-4474c64b661c"
      },
      "execution_count": null,
      "outputs": [
        {
          "output_type": "execute_result",
          "data": {
            "text/plain": [
              "torch.Size([228146, 27])"
            ]
          },
          "metadata": {},
          "execution_count": 23
        }
      ]
    },
    {
      "cell_type": "code",
      "source": [
        "Y"
      ],
      "metadata": {
        "colab": {
          "base_uri": "https://localhost:8080/"
        },
        "id": "fq7Hdfm3V2XN",
        "outputId": "a3e90be4-313f-4fcc-c1a1-6f742bb35f73"
      },
      "execution_count": null,
      "outputs": [
        {
          "output_type": "execute_result",
          "data": {
            "text/plain": [
              "tensor([ 5, 13, 13,  ..., 26, 24,  0])"
            ]
          },
          "metadata": {},
          "execution_count": 24
        }
      ]
    },
    {
      "cell_type": "code",
      "source": [
        "loss = F.cross_entropy(logits, Y)"
      ],
      "metadata": {
        "id": "LtP1T9m9V_Kb"
      },
      "execution_count": null,
      "outputs": []
    },
    {
      "cell_type": "code",
      "source": [
        "loss"
      ],
      "metadata": {
        "colab": {
          "base_uri": "https://localhost:8080/"
        },
        "id": "Gs0tuKG4Wev7",
        "outputId": "1cdade03-585a-41cd-8d5e-0e7d653233f3"
      },
      "execution_count": null,
      "outputs": [
        {
          "output_type": "execute_result",
          "data": {
            "text/plain": [
              "tensor(17.2028)"
            ]
          },
          "metadata": {},
          "execution_count": 26
        }
      ]
    },
    {
      "cell_type": "code",
      "source": [
        "parameters=[C,w1,b1,w2,b2]"
      ],
      "metadata": {
        "id": "jT2B3iGDZ00q"
      },
      "execution_count": null,
      "outputs": []
    },
    {
      "cell_type": "code",
      "source": [
        "sum(p.nelement() for p in parameters) #total number of parameters"
      ],
      "metadata": {
        "colab": {
          "base_uri": "https://localhost:8080/"
        },
        "id": "76VUuzLV9Hkm",
        "outputId": "8b6c791c-c424-4c74-f07c-3131759eadae"
      },
      "execution_count": null,
      "outputs": [
        {
          "output_type": "execute_result",
          "data": {
            "text/plain": [
              "3481"
            ]
          },
          "metadata": {},
          "execution_count": 28
        }
      ]
    },
    {
      "cell_type": "code",
      "source": [
        "for p in parameters:\n",
        "  p.requires_grad=True"
      ],
      "metadata": {
        "id": "P0UOFZ809KfK"
      },
      "execution_count": null,
      "outputs": []
    },
    {
      "cell_type": "code",
      "source": [
        "for _ in range(1000):\n",
        "  #mini batch construct\n",
        "  ix=torch.randint(0,X.shape[0],(32,))\n",
        "  #forward pass\n",
        "  emb=C[X[ix]]\n",
        "  h=torch.tanh(emb.view(-1,6) @ w1 + b1)\n",
        "  logits = h @ w2 + b2\n",
        "  loss = F.cross_entropy(logits,Y[ix])\n",
        "  #backward pass\n",
        "  for p in parameters:\n",
        "    p.grad=None\n",
        "  loss.backward()\n",
        "  for p in parameters:\n",
        "    p.data += -0.1 * p.grad\n",
        "\n",
        "print(loss.item())"
      ],
      "metadata": {
        "colab": {
          "base_uri": "https://localhost:8080/"
        },
        "id": "wiQNMauz9TFY",
        "outputId": "41438f96-109c-4f95-87ea-ef75b9d90a60"
      },
      "execution_count": null,
      "outputs": [
        {
          "output_type": "stream",
          "name": "stdout",
          "text": [
            "2.465536117553711\n"
          ]
        }
      ]
    },
    {
      "cell_type": "code",
      "source": [
        "emb=C[X]\n",
        "h=torch.tanh(emb.view(-1,6) @ w1 + b1)\n",
        "logits = h @ w2 + b2\n",
        "loss = F.cross_entropy(logits,Y)\n",
        "loss"
      ],
      "metadata": {
        "colab": {
          "base_uri": "https://localhost:8080/"
        },
        "id": "X1Bkm6Fo9s1Z",
        "outputId": "1bc5e71d-a519-49fc-e771-56f16d9b498d"
      },
      "execution_count": null,
      "outputs": [
        {
          "output_type": "execute_result",
          "data": {
            "text/plain": [
              "tensor(2.6819, grad_fn=<NllLossBackward0>)"
            ]
          },
          "metadata": {},
          "execution_count": 31
        }
      ]
    },
    {
      "cell_type": "code",
      "source": [
        "for _ in range(20):\n",
        "\n",
        "    out = []\n",
        "    context = [0] * block_size # initialize with all ...\n",
        "    while True:\n",
        "      emb = C[torch.tensor([context])] # (1,block_size,d)\n",
        "      h = torch.tanh(emb.view(1, -1) @ w1 + b1)\n",
        "      logits = h @ w2 + b2\n",
        "      probs = F.softmax(logits, dim=1)\n",
        "      ix = torch.multinomial(probs, num_samples=1).item()\n",
        "      context = context[1:] + [ix]\n",
        "      out.append(ix)\n",
        "      if ix == 0:\n",
        "        break\n",
        "\n",
        "    print(''.join(itos[i] for i in out))"
      ],
      "metadata": {
        "id": "jxRjN-Zb-Cgt",
        "colab": {
          "base_uri": "https://localhost:8080/"
        },
        "outputId": "f62f79db-b008-4bd8-c13b-8f6b93c4de39"
      },
      "execution_count": null,
      "outputs": [
        {
          "output_type": "stream",
          "name": "stdout",
          "text": [
            "dervane.\n",
            "rma.\n",
            "dirmyndal.\n",
            "racina.\n",
            "ruev.\n",
            "jitae.\n",
            "ja.\n",
            "lakas.\n",
            "mayno.\n",
            "mala.\n",
            "aooqun.\n",
            "asinn.\n",
            "saiin.\n",
            "emonyamhann.\n",
            "kulsanayenmenal.\n",
            "dmmwione.\n",
            "draen.\n",
            "graa.\n",
            "maidy.\n",
            "ayn.\n"
          ]
        }
      ]
    },
    {
      "cell_type": "code",
      "source": [],
      "metadata": {
        "id": "jDixOyrg8vUM"
      },
      "execution_count": null,
      "outputs": []
    }
  ]
}